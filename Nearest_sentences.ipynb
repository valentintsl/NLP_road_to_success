{
  "nbformat": 4,
  "nbformat_minor": 0,
  "metadata": {
    "colab": {
      "name": "Adv Machine learning Valentin TASSEL.ipynb",
      "provenance": [],
      "authorship_tag": "ABX9TyP1MZ+9KwpO6zRK0A2DNG1N"
    },
    "kernelspec": {
      "name": "python3",
      "display_name": "Python 3"
    }
  },
  "cells": [
    {
      "cell_type": "markdown",
      "metadata": {
        "id": "AL6SMaAtS2PL",
        "colab_type": "text"
      },
      "source": [
        "<h1>Starting with language datas and NLTK</h1>\n",
        "The goal is to find the two nearest sentences (in a meaning/semantic way) in the articles on the same topic. The method used should also show a difference between the article on a different topic.\n",
        "<br>The possible tools used to achieve this result are been presented the last session (tokenization, normalization, regular expressions, string distances).Verify if your 3 articles respect the Zipf’s law.\n",
        "<br>\n",
        "Here under, you will find some examples of this tools with NLTK.\n"
      ]
    },
    {
      "cell_type": "markdown",
      "metadata": {
        "id": "pKNY4Xm36pg9",
        "colab_type": "text"
      },
      "source": [
        "<h2>Find the two nearest sentences(in a meaning/semantic way) using tokenization, normalization, regex ans string distances"
      ]
    },
    {
      "cell_type": "markdown",
      "metadata": {
        "id": "aBvsGedQxW_j",
        "colab_type": "text"
      },
      "source": [
        "Importation of the library"
      ]
    },
    {
      "cell_type": "code",
      "metadata": {
        "id": "kVra_sJwxwV0",
        "colab_type": "code",
        "colab": {
          "base_uri": "https://localhost:8080/",
          "height": 148
        },
        "outputId": "e21555d2-fac5-402e-9e1a-ac3250cc71de"
      },
      "source": [
        "nltk.download('punkt')\n",
        "nltk.download('stopwords')\n",
        "nltk.download('wordnet')"
      ],
      "execution_count": null,
      "outputs": [
        {
          "output_type": "stream",
          "text": [
            "[nltk_data] Downloading package punkt to /root/nltk_data...\n",
            "[nltk_data]   Package punkt is already up-to-date!\n",
            "[nltk_data] Downloading package stopwords to /root/nltk_data...\n",
            "[nltk_data]   Package stopwords is already up-to-date!\n",
            "[nltk_data] Downloading package wordnet to /root/nltk_data...\n",
            "[nltk_data]   Unzipping corpora/wordnet.zip.\n"
          ],
          "name": "stdout"
        },
        {
          "output_type": "execute_result",
          "data": {
            "text/plain": [
              "True"
            ]
          },
          "metadata": {
            "tags": []
          },
          "execution_count": 59
        }
      ]
    },
    {
      "cell_type": "code",
      "metadata": {
        "id": "vMW9ve2ttxj5",
        "colab_type": "code",
        "colab": {}
      },
      "source": [
        "import pandas as pd\n",
        "import nltk\n",
        "from nltk.tokenize import TreebankWordTokenizer\n",
        "from nltk.tokenize import WordPunctTokenizer\n",
        "from nltk.tokenize import RegexpTokenizer\n",
        "from nltk.corpus import stopwords\n",
        "from nltk.stem import WordNetLemmatizer\n",
        "from nltk.metrics import *"
      ],
      "execution_count": null,
      "outputs": []
    },
    {
      "cell_type": "markdown",
      "metadata": {
        "id": "7zcWeZTqwxmw",
        "colab_type": "text"
      },
      "source": [
        "Importation of 3 articles :\n",
        "- 2 Articles about the double currencies in CUBA\n",
        "- 1 Article about the conflict between Israel and Gaza"
      ]
    },
    {
      "cell_type": "code",
      "metadata": {
        "id": "SPSG87IVt9Rx",
        "colab_type": "code",
        "colab": {}
      },
      "source": [
        "article1 = 'En pleine crise économique et alimentaire, Cuba entame son unification monétaire. Serpent de mer pour le gouvernement cubain depuis une décennie, fusionner les deux monnaies en circulation dans le pays relève d’un véritable défi mais d’une «  nécessité urgente », selon le gouvernement.L’unification des deux monnaies n’a pourtant pas été annoncé officiellement. Mais déjà les Cubains s’inquiètent pour leurs économies et se ruent dans les bureaux de change. Officiellement, 1 CUC (péso cubain convertible) vaut 24 pesos cubains. Mais le CUC s’échange désormais dans la rue contre 23 pesos. Plus personne n’en veut. Et certains commerçants et travailleurs indépendants ne l’acceptent déjà plus. Le peso convertible va disparaître. Mais quand ? Personne n’a la réponse !Ce qui est sûr, c’est que Maritza Kiara attend depuis trois heures pour entrer, comme une cinquantaine de personnes, dans le bureau de change et se débarrasser de ses pesos convertibles. « Je vais changer toutes mes économies, assure-t-elle. Je n’en ai pas beaucoup. Mais il vaut mieux changer maintenant plutôt que de les perdre ! Parce qu’on ne sait pas le taux de change qu’ils vont mettre plus tard. Ils vont peut-être le baisser à 20 pesos donc je préfère changer maintenant à 24 pesos ! »Depuis plusieurs semaines, selon une « radio bemba », cette rumeur qui va très vite à Cuba, le CUC s’échangerait désormais à 20 pesos. Alors les bureaux de change ont été pris d’assaut. Marta Ramirez Moreno est juste devant Maritza dans la queue. « Non, non, on ne sait vraiment rien pour l’instant. Mais ce qui se passe, c’est que les gens parlent et commentent, et on préfère anticiper », confie-t-elle. Les deux femmes anticipent, selon leurs mots, pour ne pas dire qu’elles paniquent à l’idée de perde leurs petites économies. Aucune information n’a pourtant été donnée sur le taux de change. Les Cubains craignent également une inflation, alors que le pays traverse actuellement des difficultés économiques et des pénuries. Mais le gouvernement estime que l’unification monétaire est désormais urgente et servira à la « transparence » de la gestion du pays.'\n",
        "\n",
        "article2 = 'Le 1er janvier, Cuba célébrera le 61e anniversaire de sa révolution. Si 2019 a été marquée par un événement politique, l’entrée en vigueur d’une nouvelle Constitution, 2020 devrait être une année de réformes économiques avec l’unification des deux monnaies, un chantier proclamé « prioritaire » depuis 2015, mais très délicat à mettre en place. À terme (aucune date n’a été fixée), le CUC, devise alignée sur le dollar qui sert aux échanges dans le tourisme et pour l’achat des biens d’équipement des ménages, doit disparaître. Seul subsistera le vieux peso qu’utilisent les Cubains au quotidien. La monnaie américaine, longtemps bannie (il fallait la changer contre des CUC) est depuis octobre acceptée dans les commerces. Et la population peut désormais ouvrir des comptes en dollars. Un pays qui importe quasiment tout (vêtements, électroménager, plus de 70 % de sa consommation alimentaire) a besoin de devises fortes, qu’il obtient grâce au tourisme et aux virements des expatriés à leurs familles. Pouvoir d’achat et pénuries. Le régime a donné un léger coup de pouce au pouvoir d’achat en juin en augmentant le salaire moyen des fonctionnaires (80 % des actifs) de 667 à 1067 pesos (25 à 40 dollars). Le salaire minimum est fixé à 400 pesos. Des sommes majoritairement englouties par les dépenses de nourriture, rare quand elle est vendue à bas prix par l’État, chère dans le secteur privé. La réalité des pénuries s’est traduite en images en novembre, lors de l’inauguration d’un centre commercial à La Havane : les acheteurs se battaient dans les allées pour emporter bières, huile ou lessive. Le poste de premier ministre, supprimé en 1976 et que la nouvelle Constitution rétablit, a été confié la semaine dernière à Manuel Marrero, ministre du Tourisme depuis 2004. Son expérience dans un des rares secteurs qui rapportent des devises a sans doute fait pencher la balance en sa faveur. Mais sur ce front aussi, l’avenir s’annonce sombre. Pour 2019, le nombre de touristes devrait stagner ou légèrement baisser, autour de 4,2 millions d’entrées. Très loin des 5,1 millions prévus.'\n",
        "\n",
        "article3 = 'L’armée israélienne bombardait, mercredi matin 16 septembre, des sites de la bande de Gaza dans la foulée de tirs de roquettes vers l’Etat hébreu, selon des sources sécuritaires palestiniennes. Des premières roquettes avaient été tirées mardi soir vers Israël à l’occasion de la signature, à Washington, des accords de normalisation des relations entre l’Etat hébreu et deux pays arabes, suivies mercredi matin par de nouveaux tirs et des frappes de représailles israéliennes, selon ces sources. Mercredi matin, avant l’aube, des sirènes retentissaient dans de nombreuses villes israéliennes bordant la bande de Gaza, enclave palestinienne de deux millions d’habitants sous contrôle du Hamas et sous blocus israélien, selon l’armée israélienne.'"
      ],
      "execution_count": null,
      "outputs": []
    },
    {
      "cell_type": "markdown",
      "metadata": {
        "id": "tn_bQV7n1R6C",
        "colab_type": "text"
      },
      "source": [
        "<h3>Tokenization"
      ]
    },
    {
      "cell_type": "markdown",
      "metadata": {
        "id": "yRZ0tw-Y1YVo",
        "colab_type": "text"
      },
      "source": [
        "<h4>Sentence tokenization"
      ]
    },
    {
      "cell_type": "markdown",
      "metadata": {
        "id": "2KW29LxhxOF7",
        "colab_type": "text"
      },
      "source": [
        "To perform tokenization, we can import the sentence tokenization function. <br>The argument of this\n",
        "function will be text that needs to be tokenized. The sent_tokenize function uses an instance of\n",
        "NLTK known as PunktSentenceTokenizer .<br> This instance of NLTK has already been trained to\n",
        "perform tokenization on different European languages on the basis of letters or punctuation that\n",
        "mark the beginning and end of sentences."
      ]
    },
    {
      "cell_type": "markdown",
      "metadata": {
        "id": "M1261HGnx8Vx",
        "colab_type": "text"
      },
      "source": [
        "Here is an example :"
      ]
    },
    {
      "cell_type": "code",
      "metadata": {
        "id": "Ah0xWZ4iwAYZ",
        "colab_type": "code",
        "colab": {
          "base_uri": "https://localhost:8080/",
          "height": 73
        },
        "outputId": "044b80af-eaa6-4101-f619-91af10279868"
      },
      "source": [
        "tokenizer = nltk.data.load('tokenizers/punkt/english.pickle')\n",
        "text = \"Hello everyone. Hope all are fine and doing well. Hope you find the book interesting\"\n",
        "tokenizer.tokenize(text)"
      ],
      "execution_count": null,
      "outputs": [
        {
          "output_type": "execute_result",
          "data": {
            "text/plain": [
              "['Hello everyone.',\n",
              " 'Hope all are fine and doing well.',\n",
              " 'Hope you find the book interesting']"
            ]
          },
          "metadata": {
            "tags": []
          },
          "execution_count": 6
        }
      ]
    },
    {
      "cell_type": "markdown",
      "metadata": {
        "id": "z8asVOfBx_O8",
        "colab_type": "text"
      },
      "source": [
        "Let's test with our articles in french :\n",
        "<br>\n",
        "For performing tokenization in languages other than English, we can load the respective language\n",
        "pickle file found in tokenizers/\n",
        "punkt and then tokenize the text in another language, which is an\n",
        "argument of the tokenize() function.\n",
        "<br> <b>For the tokenization of French text, we will use the french tokenizer and the conversion to lowercase"
      ]
    },
    {
      "cell_type": "code",
      "metadata": {
        "id": "bV52Hnuy0QiN",
        "colab_type": "code",
        "colab": {}
      },
      "source": [
        "french_tokenizer = nltk.data.load('tokenizers/punkt/french.pickle')"
      ],
      "execution_count": null,
      "outputs": []
    },
    {
      "cell_type": "code",
      "metadata": {
        "id": "FdN9XGyUxrte",
        "colab_type": "code",
        "colab": {}
      },
      "source": [
        "art1_sentence_token = french_tokenizer.tokenize(article1.lower())\n",
        "art2_sentence_token = french_tokenizer.tokenize(article2.lower())\n",
        "art3_sentence_token = french_tokenizer.tokenize(article3.lower())"
      ],
      "execution_count": null,
      "outputs": []
    },
    {
      "cell_type": "markdown",
      "metadata": {
        "id": "k4qHQ_nr1cVz",
        "colab_type": "text"
      },
      "source": [
        "<h4>Word tokenization"
      ]
    },
    {
      "cell_type": "markdown",
      "metadata": {
        "id": "M3slYtHe1hvG",
        "colab_type": "text"
      },
      "source": [
        "Now, we'll perform processing on individual sentences. Individual sentences are tokenized into\n",
        "words. \n",
        "<br><b>I will show some examples below</b>\n",
        "<br>\n",
        "<br>Word tokenization is performed using a word_tokenize() function. <br>The word_tokenize\n",
        "function uses an instance of NLTK known as TreebankWordTokenizer to perform word\n",
        "tokenization."
      ]
    },
    {
      "cell_type": "code",
      "metadata": {
        "id": "bc6uOYj6zYIa",
        "colab_type": "code",
        "colab": {
          "base_uri": "https://localhost:8080/",
          "height": 223
        },
        "outputId": "c17c70a8-35ab-41af-d873-8519f21fd0d0"
      },
      "source": [
        "word_tokenizer = TreebankWordTokenizer()\n",
        "word_tokenizer.tokenize(\"Have a nice day. I hope you find the book interesting\")\n"
      ],
      "execution_count": null,
      "outputs": [
        {
          "output_type": "execute_result",
          "data": {
            "text/plain": [
              "['Have',\n",
              " 'a',\n",
              " 'nice',\n",
              " 'day.',\n",
              " 'I',\n",
              " 'hope',\n",
              " 'you',\n",
              " 'find',\n",
              " 'the',\n",
              " 'book',\n",
              " 'interesting']"
            ]
          },
          "metadata": {
            "tags": []
          },
          "execution_count": 14
        }
      ]
    },
    {
      "cell_type": "markdown",
      "metadata": {
        "id": "pYgdiTQS3ECD",
        "colab_type": "text"
      },
      "source": [
        "TreebankWordTokenizer uses conventions according to Penn Treebank Corpus. <br>It works by\n",
        "separating contractions. This is shown here:"
      ]
    },
    {
      "cell_type": "code",
      "metadata": {
        "id": "C7xl2PBY229x",
        "colab_type": "code",
        "colab": {
          "base_uri": "https://localhost:8080/",
          "height": 36
        },
        "outputId": "610d979f-e9f2-4839-eed0-67607eb837fc"
      },
      "source": [
        "text = nltk.word_tokenize(\"Don't hesitate to ask questions\")\n",
        "print(text)"
      ],
      "execution_count": null,
      "outputs": [
        {
          "output_type": "stream",
          "text": [
            "['Do', \"n't\", 'hesitate', 'to', 'ask', 'questions']\n"
          ],
          "name": "stdout"
        }
      ]
    },
    {
      "cell_type": "markdown",
      "metadata": {
        "id": "YT8oyEyw7Dnv",
        "colab_type": "text"
      },
      "source": [
        "Another word tokenizer is PunktWordTokenizer . It works by splitting punctuation;each word is\n",
        "kept instead of creating an entirely new token. <br>Another word tokenizer is WordPunctTokenizer . It\n",
        "provides splitting by making punctuation an entirely new token. This type of splitting is usually\n",
        "desirable:"
      ]
    },
    {
      "cell_type": "code",
      "metadata": {
        "id": "ZtieEu6s7PL0",
        "colab_type": "code",
        "colab": {
          "base_uri": "https://localhost:8080/",
          "height": 36
        },
        "outputId": "28a89c38-0de3-4f05-dde3-11b2e98b447e"
      },
      "source": [
        "punkt_tokenizer = WordPunctTokenizer()\n",
        "punkt_tokenizer.tokenize(\"Don't hesitate to ask questions\")"
      ],
      "execution_count": null,
      "outputs": [
        {
          "output_type": "execute_result",
          "data": {
            "text/plain": [
              "['Don', \"'\", 't', 'hesitate', 'to', 'ask', 'questions']"
            ]
          },
          "metadata": {
            "tags": []
          },
          "execution_count": 19
        }
      ]
    },
    {
      "cell_type": "markdown",
      "metadata": {
        "id": "Gbe_F6JQ7ynH",
        "colab_type": "text"
      },
      "source": [
        "<h4>Tokenization using Regex</h4>\n",
        "<br>\n",
        "The tokenization of words can be performed by constructing regular expressions in these two ways:\n",
        "\n",
        "- By matching with words\n",
        "- By matching spaces or gaps"
      ]
    },
    {
      "cell_type": "code",
      "metadata": {
        "id": "mK5JStGS7xF2",
        "colab_type": "code",
        "colab": {
          "base_uri": "https://localhost:8080/",
          "height": 36
        },
        "outputId": "4a4770f4-c149-4b34-cba2-134a888ead3d"
      },
      "source": [
        "regexp_tokenizer = RegexpTokenizer(\"[\\w]+\")\n",
        "regexp_tokenizer.tokenize(\"Don't hesitate to ask questions\")"
      ],
      "execution_count": null,
      "outputs": [
        {
          "output_type": "execute_result",
          "data": {
            "text/plain": [
              "['Don', 't', 'hesitate', 'to', 'ask', 'questions']"
            ]
          },
          "metadata": {
            "tags": []
          },
          "execution_count": 52
        }
      ]
    },
    {
      "cell_type": "markdown",
      "metadata": {
        "id": "TCnFiP5iAvU_",
        "colab_type": "text"
      },
      "source": [
        "<b>For our purpose we will use Regex tokenizer, because in french we have to keep apostrophe in words like in l'on, t'ont, c'est"
      ]
    },
    {
      "cell_type": "markdown",
      "metadata": {
        "id": "0r9Zn5FDEDeu",
        "colab_type": "text"
      },
      "source": [
        "To store the word tokenization of each sentence, I will use list of lists\n"
      ]
    },
    {
      "cell_type": "code",
      "metadata": {
        "id": "OkiVf0P1Au0L",
        "colab_type": "code",
        "colab": {}
      },
      "source": [
        "def sentence_wordtoken_listoflist(article):\n",
        "\n",
        "  sentence_token_list = []\n",
        "  for sentence in article:\n",
        "    word_list = regexp_tokenizer.tokenize(sentence)\n",
        "    sentence_token_list.append(word_list)\n",
        "  return sentence_token_list\n"
      ],
      "execution_count": null,
      "outputs": []
    },
    {
      "cell_type": "code",
      "metadata": {
        "id": "GQS_ZOuXF4I3",
        "colab_type": "code",
        "colab": {}
      },
      "source": [
        "art1_word_token = sentence_wordtoken_listoflist(art1_sentence_token)\n",
        "art2_word_token = sentence_wordtoken_listoflist(art2_sentence_token)\n",
        "art3_word_token = sentence_wordtoken_listoflist(art3_sentence_token)"
      ],
      "execution_count": null,
      "outputs": []
    },
    {
      "cell_type": "markdown",
      "metadata": {
        "id": "liAd39vAIRgr",
        "colab_type": "text"
      },
      "source": [
        "<b>Let's clean the stopwords using the NLTK stopwords list"
      ]
    },
    {
      "cell_type": "code",
      "metadata": {
        "id": "sh9ZA2GdHtGK",
        "colab_type": "code",
        "colab": {}
      },
      "source": [
        "def article_clean_stopwords(article):\n",
        "  sentence_token_clean = []\n",
        "  stops = set(stopwords.words('french'))\n",
        "  for sentence in article:\n",
        "    sentence_clean = [word for word in sentence if word not in stops]\n",
        "    sentence_token_clean.append(sentence_clean)\n",
        "  return sentence_token_clean"
      ],
      "execution_count": null,
      "outputs": []
    },
    {
      "cell_type": "code",
      "metadata": {
        "id": "L6TQFjB2JNpl",
        "colab_type": "code",
        "colab": {}
      },
      "source": [
        "art1_clean = article_clean_stopwords(art1_word_token)\n",
        "art2_clean = article_clean_stopwords(art2_word_token)\n",
        "art3_clean = article_clean_stopwords(art3_word_token)"
      ],
      "execution_count": null,
      "outputs": []
    },
    {
      "cell_type": "markdown",
      "metadata": {
        "id": "XQAeyi62KYXi",
        "colab_type": "text"
      },
      "source": [
        "<b>Let's lemmatize the words to have more precision in the similarity measure"
      ]
    },
    {
      "cell_type": "code",
      "metadata": {
        "id": "vZmyv0zjKocV",
        "colab_type": "code",
        "colab": {}
      },
      "source": [
        "def article_lemmatization(article):\n",
        "  sentence_lemmatized = []\n",
        "  lemmatizer_output = WordNetLemmatizer()\n",
        "  for sentence in article:\n",
        "    word_lemmatized = []\n",
        "    for word in sentence:\n",
        "      lemmatizer_output.lemmatize(word)\n",
        "      word_lemmatized.append(word)\n",
        "    sentence_lemmatized.append(sentence)\n",
        "  return sentence_lemmatized\n",
        "\n",
        "\n",
        "\n",
        "  "
      ],
      "execution_count": null,
      "outputs": []
    },
    {
      "cell_type": "code",
      "metadata": {
        "id": "rpL8-l25OgSd",
        "colab_type": "code",
        "colab": {}
      },
      "source": [
        "art1_lemma = article_lemmatization(art1_clean)\n",
        "art2_lemma = article_lemmatization(art2_clean)\n",
        "art3_lemma = article_lemmatization(art3_clean)"
      ],
      "execution_count": null,
      "outputs": []
    },
    {
      "cell_type": "markdown",
      "metadata": {
        "id": "TD2oMG8OO8y2",
        "colab_type": "text"
      },
      "source": [
        "<b>We will calcul similarity measure between words and apply a mean between them</b>"
      ]
    },
    {
      "cell_type": "code",
      "metadata": {
        "id": "MI0BlXoJO4Sl",
        "colab_type": "code",
        "colab": {}
      },
      "source": [
        "def similarity(article1, article2):\n",
        "  distance_min = 1.0\n",
        "  sentence_item1_min = []\n",
        "  sentence_item2_min = []\n",
        "  for sentence1 in article1:\n",
        "    sentence_item1 = sentence1\n",
        "    for sentence2 in article2:\n",
        "      sentence_item2 = sentence2\n",
        "      distance = jaccard_distance(set(sentence1), set(sentence2))\n",
        "      if distance < distance_min:\n",
        "        distance_min = distance\n",
        "        sentence_item1_min = sentence_item1\n",
        "        sentence_item2_min = sentence_item2\n",
        "  return [sentence_item1_min, sentence_item2_min, distance_min]"
      ],
      "execution_count": null,
      "outputs": []
    },
    {
      "cell_type": "code",
      "metadata": {
        "id": "KTWXk07OTQEt",
        "colab_type": "code",
        "colab": {
          "base_uri": "https://localhost:8080/",
          "height": 280
        },
        "outputId": "835d34e6-fd5c-4c61-fbbc-662dcf08ba22"
      },
      "source": [
        "similarity(art1_lemma, art2_lemma)"
      ],
      "execution_count": null,
      "outputs": [
        {
          "output_type": "execute_result",
          "data": {
            "text/plain": [
              "[['cuc', 'échange', 'désormais', 'rue', 'contre', '23', 'pesos'],\n",
              " ['monnaie',\n",
              "  'américaine',\n",
              "  'longtemps',\n",
              "  'bannie',\n",
              "  'fallait',\n",
              "  'changer',\n",
              "  'contre',\n",
              "  'cuc',\n",
              "  'depuis',\n",
              "  'octobre',\n",
              "  'acceptée',\n",
              "  'commerces'],\n",
              " 0.8823529411764706]"
            ]
          },
          "metadata": {
            "tags": []
          },
          "execution_count": 72
        }
      ]
    },
    {
      "cell_type": "code",
      "metadata": {
        "id": "fPnEw28aUYb9",
        "colab_type": "code",
        "colab": {
          "base_uri": "https://localhost:8080/",
          "height": 1000
        },
        "outputId": "bf4cd2b4-a746-422c-84f3-e071706a430b"
      },
      "source": [
        "similarity(art1_lemma, art3_lemma)"
      ],
      "execution_count": null,
      "outputs": [
        {
          "output_type": "execute_result",
          "data": {
            "text/plain": [
              "[['serpent',\n",
              "  'mer',\n",
              "  'gouvernement',\n",
              "  'cubain',\n",
              "  'depuis',\n",
              "  'décennie',\n",
              "  'fusionner',\n",
              "  'deux',\n",
              "  'monnaies',\n",
              "  'circulation',\n",
              "  'pays',\n",
              "  'relève',\n",
              "  'véritable',\n",
              "  'défi',\n",
              "  'nécessité',\n",
              "  'urgente',\n",
              "  'selon',\n",
              "  'gouvernement',\n",
              "  'unification',\n",
              "  'deux',\n",
              "  'monnaies',\n",
              "  'a',\n",
              "  'pourtant',\n",
              "  'annoncé',\n",
              "  'officiellement'],\n",
              " ['premières',\n",
              "  'roquettes',\n",
              "  'tirées',\n",
              "  'mardi',\n",
              "  'soir',\n",
              "  'vers',\n",
              "  'israël',\n",
              "  'occasion',\n",
              "  'signature',\n",
              "  'washington',\n",
              "  'accords',\n",
              "  'normalisation',\n",
              "  'relations',\n",
              "  'entre',\n",
              "  'etat',\n",
              "  'hébreu',\n",
              "  'deux',\n",
              "  'pays',\n",
              "  'arabes',\n",
              "  'suivies',\n",
              "  'mercredi',\n",
              "  'matin',\n",
              "  'nouveaux',\n",
              "  'tirs',\n",
              "  'frappes',\n",
              "  'représailles',\n",
              "  'israéliennes',\n",
              "  'selon',\n",
              "  'sources'],\n",
              " 0.9375]"
            ]
          },
          "metadata": {
            "tags": []
          },
          "execution_count": 73
        }
      ]
    },
    {
      "cell_type": "markdown",
      "metadata": {
        "id": "2PFednLuUpo0",
        "colab_type": "text"
      },
      "source": [
        "We see in these example that the two article talking about Cuba currencies have similar sentence with a jaccard distance of <b>0.8823</b> whereas the jaccard distance of the third article about gaza conflict has a higher distance <b>0.9375"
      ]
    },
    {
      "cell_type": "markdown",
      "metadata": {
        "id": "NXnHu_nX4DIA",
        "colab_type": "text"
      },
      "source": [
        "<h2>Zipf's Law</h2>\n",
        "<br>\n",
        "The frequency of any word is inversely proportional to its rank in the frequency table\n",
        "\n",
        "\n",
        "\n"
      ]
    },
    {
      "cell_type": "markdown",
      "metadata": {
        "id": "tE1Nan8w4qNp",
        "colab_type": "text"
      },
      "source": [
        "![Zipf's law.PNG](data:image/png;base64,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)"
      ]
    },
    {
      "cell_type": "markdown",
      "metadata": {
        "id": "_WE3-Q1q5icy",
        "colab_type": "text"
      },
      "source": [
        "The probability mass function in Zipf's Law is defined as :"
      ]
    },
    {
      "cell_type": "markdown",
      "metadata": {
        "id": "ztfjF7625pvR",
        "colab_type": "text"
      },
      "source": [
        "![Zipf's law equation.png](data:image/png;base64,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)"
      ]
    },
    {
      "cell_type": "markdown",
      "metadata": {
        "id": "C7maDmqVVy9w",
        "colab_type": "text"
      },
      "source": [
        "- k is the rank of the word we are interested in finding out the probability of appearing in the corpus\n",
        "- N is the corpus’ vocabulary size\n",
        "- s is a parameter of the probability distribution and is set to 1 in the classic version of Zipf’s Law."
      ]
    },
    {
      "cell_type": "markdown",
      "metadata": {
        "id": "5-Z-oTOgWOUa",
        "colab_type": "text"
      },
      "source": [
        "Let's print the word count for each article in a dataframe"
      ]
    },
    {
      "cell_type": "code",
      "metadata": {
        "id": "NF3xy7sa3A-K",
        "colab_type": "code",
        "colab": {}
      },
      "source": [
        "def word_count(article):\n",
        "  df = pd.DataFrame(columns = ['word','count','proportion']) #We create a dataframe\n",
        "\n",
        "  list_split = article.split()\n",
        "  list_word = []\n",
        "\n",
        "  for i in list_split:\n",
        "    if i not in list_word:\n",
        "      list_word.append(i)\n",
        "  for i in range(0,len(list_word)):\n",
        "    word_name = list_word[i]\n",
        "    count = list_split.count(list_word[i])\n",
        "    row = [word_name, count, count/len(list_word)] \n",
        "    df = df.append(pd.DataFrame([row], columns =['word','count','proportion']), ignore_index = True)\n",
        "  return df"
      ],
      "execution_count": null,
      "outputs": []
    },
    {
      "cell_type": "code",
      "metadata": {
        "id": "ViDRsH81Yw2s",
        "colab_type": "code",
        "colab": {
          "base_uri": "https://localhost:8080/",
          "height": 423
        },
        "outputId": "4e2ff9df-04fa-43f6-8165-2035e296473a"
      },
      "source": [
        "df = word_count(article1).sort_values(by='count', ascending = False, ignore_index = True)\n",
        "df"
      ],
      "execution_count": null,
      "outputs": [
        {
          "output_type": "execute_result",
          "data": {
            "text/html": [
              "<div>\n",
              "<style scoped>\n",
              "    .dataframe tbody tr th:only-of-type {\n",
              "        vertical-align: middle;\n",
              "    }\n",
              "\n",
              "    .dataframe tbody tr th {\n",
              "        vertical-align: top;\n",
              "    }\n",
              "\n",
              "    .dataframe thead th {\n",
              "        text-align: right;\n",
              "    }\n",
              "</style>\n",
              "<table border=\"1\" class=\"dataframe\">\n",
              "  <thead>\n",
              "    <tr style=\"text-align: right;\">\n",
              "      <th></th>\n",
              "      <th>word</th>\n",
              "      <th>count</th>\n",
              "      <th>proportion</th>\n",
              "    </tr>\n",
              "  </thead>\n",
              "  <tbody>\n",
              "    <tr>\n",
              "      <th>0</th>\n",
              "      <td>le</td>\n",
              "      <td>11</td>\n",
              "      <td>0.051402</td>\n",
              "    </tr>\n",
              "    <tr>\n",
              "      <th>1</th>\n",
              "      <td>de</td>\n",
              "      <td>11</td>\n",
              "      <td>0.051402</td>\n",
              "    </tr>\n",
              "    <tr>\n",
              "      <th>2</th>\n",
              "      <td>et</td>\n",
              "      <td>8</td>\n",
              "      <td>0.037383</td>\n",
              "    </tr>\n",
              "    <tr>\n",
              "      <th>3</th>\n",
              "      <td>Mais</td>\n",
              "      <td>6</td>\n",
              "      <td>0.028037</td>\n",
              "    </tr>\n",
              "    <tr>\n",
              "      <th>4</th>\n",
              "      <td>à</td>\n",
              "      <td>6</td>\n",
              "      <td>0.028037</td>\n",
              "    </tr>\n",
              "    <tr>\n",
              "      <th>...</th>\n",
              "      <td>...</td>\n",
              "      <td>...</td>\n",
              "      <td>...</td>\n",
              "    </tr>\n",
              "    <tr>\n",
              "      <th>209</th>\n",
              "      <td>!Ce</td>\n",
              "      <td>1</td>\n",
              "      <td>0.004673</td>\n",
              "    </tr>\n",
              "    <tr>\n",
              "      <th>210</th>\n",
              "      <td>sûr,</td>\n",
              "      <td>1</td>\n",
              "      <td>0.004673</td>\n",
              "    </tr>\n",
              "    <tr>\n",
              "      <th>211</th>\n",
              "      <td>Kiara</td>\n",
              "      <td>1</td>\n",
              "      <td>0.004673</td>\n",
              "    </tr>\n",
              "    <tr>\n",
              "      <th>212</th>\n",
              "      <td>attend</td>\n",
              "      <td>1</td>\n",
              "      <td>0.004673</td>\n",
              "    </tr>\n",
              "    <tr>\n",
              "      <th>213</th>\n",
              "      <td>pays.</td>\n",
              "      <td>1</td>\n",
              "      <td>0.004673</td>\n",
              "    </tr>\n",
              "  </tbody>\n",
              "</table>\n",
              "<p>214 rows × 3 columns</p>\n",
              "</div>"
            ],
            "text/plain": [
              "       word count  proportion\n",
              "0        le    11    0.051402\n",
              "1        de    11    0.051402\n",
              "2        et     8    0.037383\n",
              "3      Mais     6    0.028037\n",
              "4         à     6    0.028037\n",
              "..      ...   ...         ...\n",
              "209     !Ce     1    0.004673\n",
              "210    sûr,     1    0.004673\n",
              "211   Kiara     1    0.004673\n",
              "212  attend     1    0.004673\n",
              "213   pays.     1    0.004673\n",
              "\n",
              "[214 rows x 3 columns]"
            ]
          },
          "metadata": {
            "tags": []
          },
          "execution_count": 125
        }
      ]
    },
    {
      "cell_type": "code",
      "metadata": {
        "id": "8hQPADTOYyzU",
        "colab_type": "code",
        "colab": {}
      },
      "source": [
        "def plot_word_count(df):\n",
        "  df['count'].plot()"
      ],
      "execution_count": null,
      "outputs": []
    },
    {
      "cell_type": "code",
      "metadata": {
        "id": "fjXuLniCcyO3",
        "colab_type": "code",
        "colab": {
          "base_uri": "https://localhost:8080/",
          "height": 265
        },
        "outputId": "6d3056df-34eb-4485-a30b-30662d7820f2"
      },
      "source": [
        "plot_word_count(df)"
      ],
      "execution_count": null,
      "outputs": [
        {
          "output_type": "display_data",
          "data": {
            "image/png": "[encoded data removed]",
            "text/plain": [
              "<Figure size 432x288 with 1 Axes>"
            ]
          },
          "metadata": {
            "tags": [],
            "needs_background": "light"
          }
        }
      ]
    },
    {
      "cell_type": "code",
      "metadata": {
        "id": "lpoEkLJ0T-Cy",
        "colab_type": "code",
        "colab": {}
      },
      "source": [
        ""
      ],
      "execution_count": null,
      "outputs": []
    }
  ]
}