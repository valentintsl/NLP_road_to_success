{
  "nbformat": 4,
  "nbformat_minor": 0,
  "metadata": {
    "colab": {
      "name": "POS - SentiWordNet - Valentin TASSEL (to finish).ipynb",
      "provenance": [],
      "toc_visible": true
    },
    "kernelspec": {
      "name": "python3",
      "display_name": "Python 3"
    }
  },
  "cells": [
    {
      "cell_type": "markdown",
      "metadata": {
        "id": "OqmIEztAnzaw",
        "colab_type": "text"
      },
      "source": [
        "<h1>Parts-of-Speech-Tagging for sentiment analysis</h1>\n",
        "Part-of-speech tagging is the process of converting a sentence, in the form of a list of words,\n",
        "into a list of tuples, where each tuple is of the form (word, tag). The tag is a part-of-speech\n",
        "tag, and signifies whether the word is a noun, adjective, verb, and so on.\n",
        "<br>\n",
        "<br>\n",
        "Most of the taggers are trainable. They use a list of tagged sentences as their training data, such as\n",
        "what you get from the tagged_sents() method of a TaggedCorpusReader class. With these training\n",
        "sentences, the tagger generates an internal model that will tell it how to tag a word. Other taggers\n",
        "use external data sources or match word patterns to choose a tag for a word.\n",
        "All taggers in NLTK are in the nltk.tag package. Many taggers can also be combined into a backoff\n",
        "chain, so that if one tagger cannot tag a word, the next tagger is used, and so on."
      ]
    },
    {
      "cell_type": "markdown",
      "metadata": {
        "id": "5ghF-v18ASpl",
        "colab_type": "text"
      },
      "source": [
        "# POS tagging import"
      ]
    },
    {
      "cell_type": "code",
      "metadata": {
        "id": "8BnqiHTxASpm",
        "colab_type": "code",
        "colab": {
          "base_uri": "https://localhost:8080/",
          "height": 276
        },
        "outputId": "1d16e201-aefb-4961-a6e8-fb8800d6b450"
      },
      "source": [
        "from nltk import *\n",
        "import nltk\n",
        "from nltk.tag import UnigramTagger\n",
        "from nltk.corpus import treebank\n",
        "\n",
        "nltk.download('treebank')\n",
        "\n",
        "import unicodedata\n",
        "from nltk.tokenize import TreebankWordTokenizer\n",
        "import re\n",
        "\n",
        "import pandas as pd\n",
        "nltk.download('stopwords')\n",
        "nltk.download('sentiwordnet')\n",
        "nltk.download('wordnet')\n",
        "nltk.download('punkt')\n",
        "nltk.download('averaged_perceptron_tagger')"
      ],
      "execution_count": 55,
      "outputs": [
        {
          "output_type": "stream",
          "text": [
            "[nltk_data] Downloading package treebank to /root/nltk_data...\n",
            "[nltk_data]   Package treebank is already up-to-date!\n",
            "[nltk_data] Downloading package stopwords to /root/nltk_data...\n",
            "[nltk_data]   Package stopwords is already up-to-date!\n",
            "[nltk_data] Downloading package sentiwordnet to /root/nltk_data...\n",
            "[nltk_data]   Package sentiwordnet is already up-to-date!\n",
            "[nltk_data] Downloading package wordnet to /root/nltk_data...\n",
            "[nltk_data]   Package wordnet is already up-to-date!\n",
            "[nltk_data] Downloading package punkt to /root/nltk_data...\n",
            "[nltk_data]   Package punkt is already up-to-date!\n",
            "[nltk_data] Downloading package averaged_perceptron_tagger to\n",
            "[nltk_data]     /root/nltk_data...\n",
            "[nltk_data]   Unzipping taggers/averaged_perceptron_tagger.zip.\n"
          ],
          "name": "stdout"
        },
        {
          "output_type": "execute_result",
          "data": {
            "text/plain": [
              "True"
            ]
          },
          "metadata": {
            "tags": []
          },
          "execution_count": 55
        }
      ]
    },
    {
      "cell_type": "markdown",
      "metadata": {
        "id": "igp2Ekirqdh6",
        "colab_type": "text"
      },
      "source": [
        "## Treebank"
      ]
    },
    {
      "cell_type": "code",
      "metadata": {
        "id": "NvwQQo7X_3eb",
        "colab_type": "code",
        "colab": {
          "base_uri": "https://localhost:8080/",
          "height": 349
        },
        "outputId": "b880be99-4b98-4a87-9d43-aebd85a39f9d"
      },
      "source": [
        "treebank.sents()[0]"
      ],
      "execution_count": 2,
      "outputs": [
        {
          "output_type": "execute_result",
          "data": {
            "text/plain": [
              "['Pierre',\n",
              " 'Vinken',\n",
              " ',',\n",
              " '61',\n",
              " 'years',\n",
              " 'old',\n",
              " ',',\n",
              " 'will',\n",
              " 'join',\n",
              " 'the',\n",
              " 'board',\n",
              " 'as',\n",
              " 'a',\n",
              " 'nonexecutive',\n",
              " 'director',\n",
              " 'Nov.',\n",
              " '29',\n",
              " '.']"
            ]
          },
          "metadata": {
            "tags": []
          },
          "execution_count": 2
        }
      ]
    },
    {
      "cell_type": "code",
      "metadata": {
        "id": "gKhMSq3hAAKj",
        "colab_type": "code",
        "colab": {
          "base_uri": "https://localhost:8080/",
          "height": 349
        },
        "outputId": "a76bf1d9-2376-4387-c790-dac187b0e721"
      },
      "source": [
        "treebank.tagged_sents()[0]"
      ],
      "execution_count": 3,
      "outputs": [
        {
          "output_type": "execute_result",
          "data": {
            "text/plain": [
              "[('Pierre', 'NNP'),\n",
              " ('Vinken', 'NNP'),\n",
              " (',', ','),\n",
              " ('61', 'CD'),\n",
              " ('years', 'NNS'),\n",
              " ('old', 'JJ'),\n",
              " (',', ','),\n",
              " ('will', 'MD'),\n",
              " ('join', 'VB'),\n",
              " ('the', 'DT'),\n",
              " ('board', 'NN'),\n",
              " ('as', 'IN'),\n",
              " ('a', 'DT'),\n",
              " ('nonexecutive', 'JJ'),\n",
              " ('director', 'NN'),\n",
              " ('Nov.', 'NNP'),\n",
              " ('29', 'CD'),\n",
              " ('.', '.')]"
            ]
          },
          "metadata": {
            "tags": []
          },
          "execution_count": 3
        }
      ]
    },
    {
      "cell_type": "code",
      "metadata": {
        "id": "7J8PAbePAHZb",
        "colab_type": "code",
        "colab": {
          "base_uri": "https://localhost:8080/",
          "height": 589
        },
        "outputId": "caa91cee-3b41-46f6-9211-6c6ebd8bf036"
      },
      "source": [
        "treebank.tagged_sents()[0:2]"
      ],
      "execution_count": 4,
      "outputs": [
        {
          "output_type": "execute_result",
          "data": {
            "text/plain": [
              "[[('Pierre', 'NNP'),\n",
              "  ('Vinken', 'NNP'),\n",
              "  (',', ','),\n",
              "  ('61', 'CD'),\n",
              "  ('years', 'NNS'),\n",
              "  ('old', 'JJ'),\n",
              "  (',', ','),\n",
              "  ('will', 'MD'),\n",
              "  ('join', 'VB'),\n",
              "  ('the', 'DT'),\n",
              "  ('board', 'NN'),\n",
              "  ('as', 'IN'),\n",
              "  ('a', 'DT'),\n",
              "  ('nonexecutive', 'JJ'),\n",
              "  ('director', 'NN'),\n",
              "  ('Nov.', 'NNP'),\n",
              "  ('29', 'CD'),\n",
              "  ('.', '.')],\n",
              " [('Mr.', 'NNP'),\n",
              "  ('Vinken', 'NNP'),\n",
              "  ('is', 'VBZ'),\n",
              "  ('chairman', 'NN'),\n",
              "  ('of', 'IN'),\n",
              "  ('Elsevier', 'NNP'),\n",
              "  ('N.V.', 'NNP'),\n",
              "  (',', ','),\n",
              "  ('the', 'DT'),\n",
              "  ('Dutch', 'NNP'),\n",
              "  ('publishing', 'VBG'),\n",
              "  ('group', 'NN'),\n",
              "  ('.', '.')]]"
            ]
          },
          "metadata": {
            "tags": []
          },
          "execution_count": 4
        }
      ]
    },
    {
      "cell_type": "code",
      "metadata": {
        "id": "XRcoxAnlnRNR",
        "colab_type": "code",
        "colab": {
          "base_uri": "https://localhost:8080/",
          "height": 55
        },
        "outputId": "8e80f095-9045-428d-fa83-bf8a8e56a77b"
      },
      "source": [
        "train_sents = treebank.tagged_sents()[:3000]\n",
        "train_sents"
      ],
      "execution_count": 5,
      "outputs": [
        {
          "output_type": "execute_result",
          "data": {
            "text/plain": [
              "[[('Pierre', 'NNP'), ('Vinken', 'NNP'), (',', ','), ('61', 'CD'), ('years', 'NNS'), ('old', 'JJ'), (',', ','), ('will', 'MD'), ('join', 'VB'), ('the', 'DT'), ('board', 'NN'), ('as', 'IN'), ('a', 'DT'), ('nonexecutive', 'JJ'), ('director', 'NN'), ('Nov.', 'NNP'), ('29', 'CD'), ('.', '.')], [('Mr.', 'NNP'), ('Vinken', 'NNP'), ('is', 'VBZ'), ('chairman', 'NN'), ('of', 'IN'), ('Elsevier', 'NNP'), ('N.V.', 'NNP'), (',', ','), ('the', 'DT'), ('Dutch', 'NNP'), ('publishing', 'VBG'), ('group', 'NN'), ('.', '.')], ...]"
            ]
          },
          "metadata": {
            "tags": []
          },
          "execution_count": 5
        }
      ]
    },
    {
      "cell_type": "markdown",
      "metadata": {
        "id": "mW2_K8nUql_K",
        "colab_type": "text"
      },
      "source": [
        "## UnigramTagger"
      ]
    },
    {
      "cell_type": "code",
      "metadata": {
        "id": "v2_aPV0lASpq",
        "colab_type": "code",
        "colab": {}
      },
      "source": [
        "tagger = UnigramTagger(train_sents)"
      ],
      "execution_count": 6,
      "outputs": []
    },
    {
      "cell_type": "code",
      "metadata": {
        "id": "ObI3410jkXLW",
        "colab_type": "code",
        "colab": {
          "base_uri": "https://localhost:8080/",
          "height": 35
        },
        "outputId": "c7f17fab-fa04-466c-ff23-919338a33e8e"
      },
      "source": [
        "tokenizer = TreebankWordTokenizer()\n",
        "tokens=tokenizer.tokenize(\"it is good\")\n",
        "tokens"
      ],
      "execution_count": 7,
      "outputs": [
        {
          "output_type": "execute_result",
          "data": {
            "text/plain": [
              "['it', 'is', 'good']"
            ]
          },
          "metadata": {
            "tags": []
          },
          "execution_count": 7
        }
      ]
    },
    {
      "cell_type": "code",
      "metadata": {
        "id": "aovPi3onEgmp",
        "colab_type": "code",
        "colab": {
          "base_uri": "https://localhost:8080/",
          "height": 35
        },
        "outputId": "3276ecc1-e953-4159-b44d-ab71b9dd7bf5"
      },
      "source": [
        "tagger.tag(tokens)"
      ],
      "execution_count": 8,
      "outputs": [
        {
          "output_type": "execute_result",
          "data": {
            "text/plain": [
              "[('it', 'PRP'), ('is', 'VBZ'), ('good', 'JJ')]"
            ]
          },
          "metadata": {
            "tags": []
          },
          "execution_count": 8
        }
      ]
    },
    {
      "cell_type": "code",
      "metadata": {
        "id": "XErzcaV-Ih9F",
        "colab_type": "code",
        "colab": {
          "base_uri": "https://localhost:8080/",
          "height": 35
        },
        "outputId": "2b3f4805-5c04-494c-f0ee-96a220153033"
      },
      "source": [
        "tagger.tag([\"good\"])"
      ],
      "execution_count": 9,
      "outputs": [
        {
          "output_type": "execute_result",
          "data": {
            "text/plain": [
              "[('good', 'JJ')]"
            ]
          },
          "metadata": {
            "tags": []
          },
          "execution_count": 9
        }
      ]
    },
    {
      "cell_type": "markdown",
      "metadata": {
        "id": "mwJQRSDWs3tn",
        "colab_type": "text"
      },
      "source": [
        "We use the first 3000 tagged sentences of the treebank corpus as the training set to\n",
        "initialize the UnigramTagger class. Then, we see the first sentence as a list of words,\n",
        "and can see how it is transformed by the tag() function into a list of tagged tokens."
      ]
    },
    {
      "cell_type": "markdown",
      "metadata": {
        "id": "969LLeEDsPPv",
        "colab_type": "text"
      },
      "source": [
        "## Averaged Perceptron Tagger"
      ]
    },
    {
      "cell_type": "code",
      "metadata": {
        "id": "iqAUyoUrsemi",
        "colab_type": "code",
        "colab": {
          "base_uri": "https://localhost:8080/",
          "height": 102
        },
        "outputId": "e30bd761-9bee-4760-8082-b013f090d216"
      },
      "source": [
        "nltk.download('averaged_perceptron_tagger')"
      ],
      "execution_count": null,
      "outputs": [
        {
          "output_type": "stream",
          "text": [
            "[nltk_data] Downloading package averaged_perceptron_tagger to\n",
            "[nltk_data]     /root/nltk_data...\n",
            "[nltk_data]   Package averaged_perceptron_tagger is already up-to-\n",
            "[nltk_data]       date!\n"
          ],
          "name": "stdout"
        },
        {
          "output_type": "execute_result",
          "data": {
            "text/plain": [
              "True"
            ]
          },
          "metadata": {
            "tags": []
          },
          "execution_count": 19
        }
      ]
    },
    {
      "cell_type": "code",
      "metadata": {
        "id": "AGN8a5V7sQlQ",
        "colab_type": "code",
        "colab": {
          "base_uri": "https://localhost:8080/",
          "height": 34
        },
        "outputId": "dca2d290-24c6-4b67-9c3f-5b5753719dc1"
      },
      "source": [
        "nltk.pos_tag(nltk.word_tokenize(\"it is good\"))"
      ],
      "execution_count": null,
      "outputs": [
        {
          "output_type": "execute_result",
          "data": {
            "text/plain": [
              "[('it', 'PRP'), ('is', 'VBZ'), ('good', 'JJ')]"
            ]
          },
          "metadata": {
            "tags": []
          },
          "execution_count": 35
        }
      ]
    },
    {
      "cell_type": "markdown",
      "metadata": {
        "id": "oSUCPGkZqo3r",
        "colab_type": "text"
      },
      "source": [
        "# SentiWordNet"
      ]
    },
    {
      "cell_type": "markdown",
      "metadata": {
        "id": "o8gtEUadqvNv",
        "colab_type": "text"
      },
      "source": [
        "http://wordnetweb.princeton.edu/perl/webwn"
      ]
    },
    {
      "cell_type": "code",
      "metadata": {
        "id": "_cnUbl4CASpt",
        "colab_type": "code",
        "colab": {}
      },
      "source": [
        "from nltk.corpus import sentiwordnet as swn\n"
      ],
      "execution_count": 70,
      "outputs": []
    },
    {
      "cell_type": "code",
      "metadata": {
        "id": "frfomjdnXbv_",
        "colab_type": "code",
        "colab": {
          "base_uri": "https://localhost:8080/",
          "height": 34
        },
        "outputId": "f7922843-ea7f-43ae-eb5f-548841eb44b6"
      },
      "source": [
        "list(swn.senti_synsets('computer'))"
      ],
      "execution_count": null,
      "outputs": [
        {
          "output_type": "execute_result",
          "data": {
            "text/plain": [
              "[SentiSynset('computer.n.01'), SentiSynset('calculator.n.01')]"
            ]
          },
          "metadata": {
            "tags": []
          },
          "execution_count": 32
        }
      ]
    },
    {
      "cell_type": "code",
      "metadata": {
        "id": "vE1lkPThXhis",
        "colab_type": "code",
        "colab": {}
      },
      "source": [
        "list(swn.senti_synsets('computer', 'n'))"
      ],
      "execution_count": null,
      "outputs": []
    },
    {
      "cell_type": "code",
      "metadata": {
        "id": "VbGq67b9XdmF",
        "colab_type": "code",
        "colab": {
          "base_uri": "https://localhost:8080/",
          "height": 34
        },
        "outputId": "82814a99-70be-4ae4-857a-d9600eef0ff5"
      },
      "source": [
        "list(swn.senti_synsets('computer', 'n'))[0].obj_score()"
      ],
      "execution_count": null,
      "outputs": [
        {
          "output_type": "execute_result",
          "data": {
            "text/plain": [
              "1.0"
            ]
          },
          "metadata": {
            "tags": []
          },
          "execution_count": 33
        }
      ]
    },
    {
      "cell_type": "code",
      "metadata": {
        "id": "IYrLg35FiyWR",
        "colab_type": "code",
        "colab": {
          "base_uri": "https://localhost:8080/",
          "height": 34
        },
        "outputId": "8272a732-4afc-4fdb-a28d-ac752950499f"
      },
      "source": [
        "list(swn.senti_synsets('computer', 'n'))[0].pos_score()"
      ],
      "execution_count": null,
      "outputs": [
        {
          "output_type": "execute_result",
          "data": {
            "text/plain": [
              "0.0"
            ]
          },
          "metadata": {
            "tags": []
          },
          "execution_count": 23
        }
      ]
    },
    {
      "cell_type": "code",
      "metadata": {
        "id": "bmTsTF0Bi03o",
        "colab_type": "code",
        "colab": {
          "base_uri": "https://localhost:8080/",
          "height": 34
        },
        "outputId": "f581d87b-28b7-4d5e-a784-3f8fb1ea3eb3"
      },
      "source": [
        "list(swn.senti_synsets('computer', 'n'))[0].neg_score()"
      ],
      "execution_count": null,
      "outputs": [
        {
          "output_type": "execute_result",
          "data": {
            "text/plain": [
              "0.0"
            ]
          },
          "metadata": {
            "tags": []
          },
          "execution_count": 24
        }
      ]
    },
    {
      "cell_type": "code",
      "metadata": {
        "id": "8EluqRBoiZSb",
        "colab_type": "code",
        "colab": {
          "base_uri": "https://localhost:8080/",
          "height": 476
        },
        "outputId": "d77be508-de57-46ce-c309-36e019639495"
      },
      "source": [
        "list(swn.senti_synsets('good'))"
      ],
      "execution_count": null,
      "outputs": [
        {
          "output_type": "execute_result",
          "data": {
            "text/plain": [
              "[SentiSynset('good.n.01'),\n",
              " SentiSynset('good.n.02'),\n",
              " SentiSynset('good.n.03'),\n",
              " SentiSynset('commodity.n.01'),\n",
              " SentiSynset('good.a.01'),\n",
              " SentiSynset('full.s.06'),\n",
              " SentiSynset('good.a.03'),\n",
              " SentiSynset('estimable.s.02'),\n",
              " SentiSynset('beneficial.s.01'),\n",
              " SentiSynset('good.s.06'),\n",
              " SentiSynset('good.s.07'),\n",
              " SentiSynset('adept.s.01'),\n",
              " SentiSynset('good.s.09'),\n",
              " SentiSynset('dear.s.02'),\n",
              " SentiSynset('dependable.s.04'),\n",
              " SentiSynset('good.s.12'),\n",
              " SentiSynset('good.s.13'),\n",
              " SentiSynset('effective.s.04'),\n",
              " SentiSynset('good.s.15'),\n",
              " SentiSynset('good.s.16'),\n",
              " SentiSynset('good.s.17'),\n",
              " SentiSynset('good.s.18'),\n",
              " SentiSynset('good.s.19'),\n",
              " SentiSynset('good.s.20'),\n",
              " SentiSynset('good.s.21'),\n",
              " SentiSynset('well.r.01'),\n",
              " SentiSynset('thoroughly.r.02')]"
            ]
          },
          "metadata": {
            "tags": []
          },
          "execution_count": 25
        }
      ]
    },
    {
      "cell_type": "code",
      "metadata": {
        "id": "CL2Ypct2XUqG",
        "colab_type": "code",
        "colab": {
          "base_uri": "https://localhost:8080/",
          "height": 34
        },
        "outputId": "69f14df7-ff48-4651-a87c-c9d1da3742c0"
      },
      "source": [
        "if not list(swn.senti_synsets('rzezdf', 'n')):\n",
        "  print(\"liste vide\")"
      ],
      "execution_count": null,
      "outputs": [
        {
          "output_type": "stream",
          "text": [
            "liste vide\n"
          ],
          "name": "stdout"
        }
      ]
    },
    {
      "cell_type": "markdown",
      "metadata": {
        "id": "n2sLVbaetH2e",
        "colab_type": "text"
      },
      "source": [
        "# Sentiment analysis\n",
        "\n",
        "The main goal of this work package is to identify if reviews of movies are positives or negatives.\n",
        "\n",
        "Download movie reviews polarity dataset v2.0 at http://www.cs.cornell.edu/people/pabo/movie-\n",
        "review-data\n",
        "\n",
        "\n",
        "\n"
      ]
    },
    {
      "cell_type": "code",
      "metadata": {
        "id": "wKGZFKeAvYYR",
        "colab_type": "code",
        "colab": {
          "base_uri": "https://localhost:8080/",
          "height": 35
        },
        "outputId": "70b8d823-d739-4a45-c2a3-175fc524da69"
      },
      "source": [
        "from google.colab import drive\n",
        "drive.mount('/content/drive')"
      ],
      "execution_count": 11,
      "outputs": [
        {
          "output_type": "stream",
          "text": [
            "Mounted at /content/drive\n"
          ],
          "name": "stdout"
        }
      ]
    },
    {
      "cell_type": "markdown",
      "metadata": {
        "id": "boxjMmKpwoyC",
        "colab_type": "text"
      },
      "source": [
        "We extract the data"
      ]
    },
    {
      "cell_type": "code",
      "metadata": {
        "id": "LZIlMd9Tvq1Q",
        "colab_type": "code",
        "colab": {}
      },
      "source": [
        "import tarfile\n",
        "fname = '/content/drive/My Drive/data_collab/review_polarity.tar.gz'\n",
        "if fname.endswith(\"tar.gz\"):\n",
        "    tar = tarfile.open(fname, \"r:gz\")\n",
        "    tar.extractall('/content/drive/My Drive/data_collab')\n",
        "    tar.close()"
      ],
      "execution_count": 15,
      "outputs": []
    },
    {
      "cell_type": "code",
      "metadata": {
        "id": "1klhuP8dwmFM",
        "colab_type": "code",
        "colab": {}
      },
      "source": [
        "poslist = []\n",
        "neglist = []\n",
        "for file in os.listdir('/content/drive/My Drive/data_collab/txt_sentoken/pos'):\n",
        "  f = open('/content/drive/My Drive/data_collab/txt_sentoken/pos/{}'. format(file), 'r')\n",
        "  text = f.read()\n",
        "  poslist.append(text)\n",
        "  f.close()\n",
        "\n",
        "for file in os.listdir('/content/drive/My Drive/data_collab/txt_sentoken/neg'):\n",
        "  f = open('/content/drive/My Drive/data_collab/txt_sentoken/neg/{}'. format(file), 'r')\n",
        "  text = f.read()\n",
        "  neglist.append(text)\n",
        "  f.close()"
      ],
      "execution_count": 22,
      "outputs": []
    },
    {
      "cell_type": "code",
      "metadata": {
        "id": "sPmet83d1wVB",
        "colab_type": "code",
        "colab": {}
      },
      "source": [
        "raw_reviews = poslist + neglist"
      ],
      "execution_count": 57,
      "outputs": []
    },
    {
      "cell_type": "markdown",
      "metadata": {
        "id": "ZL7GgF3K0_lp",
        "colab_type": "text"
      },
      "source": [
        "Let's clean the data (\\n)"
      ]
    },
    {
      "cell_type": "code",
      "metadata": {
        "id": "p5ouT5We1Ulr",
        "colab_type": "code",
        "colab": {}
      },
      "source": [
        "reviews_clean = [x.replace('\\n','') for x in raw_reviews]\n",
        "reviews_clean = [x.replace(r\"\\'\",\"'\") for x in poslist_clean]"
      ],
      "execution_count": 58,
      "outputs": []
    },
    {
      "cell_type": "code",
      "metadata": {
        "id": "OF3kBAGpz-kF",
        "colab_type": "code",
        "colab": {
          "base_uri": "https://localhost:8080/",
          "height": 35
        },
        "outputId": "7a6a4d84-e677-4a12-d887-72d47bf1504f"
      },
      "source": [
        "len(reviews_clean)"
      ],
      "execution_count": 59,
      "outputs": [
        {
          "output_type": "execute_result",
          "data": {
            "text/plain": [
              "2000"
            ]
          },
          "metadata": {
            "tags": []
          },
          "execution_count": 59
        }
      ]
    },
    {
      "cell_type": "code",
      "metadata": {
        "id": "EcDCYcgL3fWY",
        "colab_type": "code",
        "colab": {
          "base_uri": "https://localhost:8080/",
          "height": 111
        },
        "outputId": "dce44701-1ead-484c-b078-67eac7dc7dfc"
      },
      "source": [
        "reviews_clean[0:4]"
      ],
      "execution_count": 60,
      "outputs": [
        {
          "output_type": "execute_result",
          "data": {
            "text/plain": [
              "['films adapted from comic books have had plenty of success , whether they\\'re about superheroes ( batman , superman , spawn ) , or geared toward kids ( casper ) or the arthouse crowd ( ghost world ) , but there\\'s never really been a comic book like from hell before . for starters , it was created by alan moore ( and eddie campbell ) , who brought the medium to a whole new level in the mid \\'80s with a 12-part series called the watchmen . to say moore and campbell thoroughly researched the subject of jack the ripper would be like saying michael jackson is starting to look a little odd . the book ( or \" graphic novel , \" if you will ) is over 500 pages long and includes nearly 30 more that consist of nothing but footnotes . in other words , don\\'t dismiss this film because of its source . if you can get past the whole comic book thing , you might find another stumbling block in from hell\\'s directors , albert and allen hughes . getting the hughes brothers to direct this seems almost as ludicrous as casting carrot top in , well , anything , but riddle me this : who better to direct a film that\\'s set in the ghetto and features really violent street crime than the mad geniuses behind menace ii society ? the ghetto in question is , of course , whitechapel in 1888 london\\'s east end . it\\'s a filthy , sooty place where the whores ( called \" unfortunates \" ) are starting to get a little nervous about this mysterious psychopath who has been carving through their profession with surgical precision . when the first stiff turns up , copper peter godley ( robbie coltrane , the world is not enough ) calls in inspector frederick abberline ( johnny depp , blow ) to crack the case . abberline , a widower , has prophetic dreams he unsuccessfully tries to quell with copious amounts of absinthe and opium . upon arriving in whitechapel , he befriends an unfortunate named mary kelly ( heather graham , say it isn\\'t so ) and proceeds to investigate the horribly gruesome crimes that even the police surgeon can\\'t stomach . i don\\'t think anyone needs to be briefed on jack the ripper , so i won\\'t go into the particulars here , other than to say moore and campbell have a unique and interesting theory about both the identity of the killer and the reasons he chooses to slay . in the comic , they don\\'t bother cloaking the identity of the ripper , but screenwriters terry hayes ( vertical limit ) and rafael yglesias ( les mis ? rables ) do a good job of keeping him hidden from viewers until the very end . it\\'s funny to watch the locals blindly point the finger of blame at jews and indians because , after all , an englishman could never be capable of committing such ghastly acts . and from hell\\'s ending had me whistling the stonecutters song from the simpsons for days ( \" who holds back the electric car/who made steve guttenberg a star ? \" ) . don\\'t worry - it\\'ll all make sense when you see it . now onto from hell\\'s appearance : it\\'s certainly dark and bleak enough , and it\\'s surprising to see how much more it looks like a tim burton film than planet of the apes did ( at times , it seems like sleepy hollow 2 ) . the print i saw wasn\\'t completely finished ( both color and music had not been finalized , so no comments about marilyn manson ) , but cinematographer peter deming ( don\\'t say a word ) ably captures the dreariness of victorian-era london and helped make the flashy killing scenes remind me of the crazy flashbacks in twin peaks , even though the violence in the film pales in comparison to that in the black-and-white comic . oscar winner martin childs\\' ( shakespeare in love ) production design turns the original prague surroundings into one creepy place . even the acting in from hell is solid , with the dreamy depp turning in a typically strong performance and deftly handling a british accent . ians holm ( joe gould\\'s secret ) and richardson ( 102 dalmatians ) log in great supporting roles , but the big surprise here is graham . i cringed the first time she opened her mouth , imagining her attempt at an irish accent , but it actually wasn\\'t half bad . the film , however , is all good . 2 : 00 - r for strong violence/gore , sexuality , language and drug content ',\n",
              " 'every now and then a movie comes along from a suspect studio , with every indication that it will be a stinker , and to everybody\\'s surprise ( perhaps even the studio ) the film becomes a critical darling . mtv films\\' _election , a high school comedy starring matthew broderick and reese witherspoon , is a current example . did anybody know this film existed a week before it opened ? the plot is deceptively simple . george washington carver high school is having student elections . tracy flick ( reese witherspoon ) is an over-achiever with her hand raised at nearly every question , way , way , high . mr . \" m \" ( matthew broderick ) , sick of the megalomaniac student , encourages paul , a popular-but-slow jock to run . and paul\\'s nihilistic sister jumps in the race as well , for personal reasons . the dark side of such sleeper success is that , because expectations were so low going in , the fact that this was quality stuff made the reviews even more enthusiastic than they have any right to be . you can\\'t help going in with the baggage of glowing reviews , which is in contrast to the negative baggage that the reviewers were likely to have . _election , a good film , does not live up to its hype . what makes _election_ so disappointing is that it contains significant plot details lifted directly from _rushmore_ , released a few months earlier . the similarities are staggering : tracy flick ( _election_ ) is the president of an extraordinary number of clubs , and is involved with the school play . max fischer ( _rushmore_ ) is the president of an extraordinary number of clubs , and is involved with the school play . the most significant tension of _election_ is the potential relationship between a teacher and his student . the most significant tension of _rushmore_ is the potential relationship between a teacher and his student . tracy flick is from a single parent home , which has contributed to her drive . max fischer is from a single parent home , which has contributed to his drive . the male bumbling adult in _election_ ( matthew broderick ) pursues an extramarital affair , gets caught , and his whole life is ruined . he even gets a bee sting . the male bumbling adult in _rushmore_ ( bill murray ) pursues an extramarital affair , gets caught , and his whole life is ruined . he gets several bee stings . and so on . what happened ? how is it that an individual screenplay ( _rushmore_ ) and a novel ( _election_ ) contain so many significant plot points , and yet both films were probably not even aware of each other , made from two different studios , from a genre ( the high school geeks revenge movie ) that hadn\\'t been fully formed yet ? even so , the strengths of _election_ rely upon its fantastic performances from broderick , witherspoon , and newcomer jessica campbell , as paul\\'s anti-social sister , tammy . broderick here is playing the mr . rooney role from _ferris bueller_ , and he seems to be having the most fun he\\'s had since then . witherspoon is a revelation . it\\'s early in the year , it\\'s a comedy , and teenagers have little clout , but for my money , witherspoon deserves an oscar nomination . and once campbell\\'s character gets going , like in her fantastic speech in the gymnasium , then you\\'re won over . one thing that\\'s been bothering me since i\\'ve seen it . there is an extraordinary amount of sexuality in this film . i suppose that , coming from mtv films , i should expect no less . . . but the film starts off light and airy , like a sitcom . as the screws tighten , and the tensions mount , alexander payne decides to add elements that , frankly , distract from the story . it is bad enough that mr . m doesn\\'t like tracy\\'s determination to win at all costs , but did they have to throw in the student/teacher relationship ? even so , there\\'s no logical reason why mr . m has an affair when he does . there\\'s a lot to like in _election_ , but the plot similarities to _rushmore_ , and the tonal nosedive it takes as it gets explicitly sex-driven , mark this as a disappointment . ',\n",
              " \"you've got mail works alot better than it deserves to . in order to make the film a success , all they had to do was cast two extremely popular and attractive stars , have them share the screen for about two hours and then collect the profits . no real acting was involved and there is not an original or inventive bone in it's body ( it's basically a complete re-shoot of the shop around the corner , only adding a few modern twists ) . essentially , it goes against and defies all concepts of good contemporary filmmaking . it's overly sentimental and at times terribly mushy , not to mention very manipulative . but oh , how enjoyable that manipulation is . but there must be something other than the casting and manipulation that makes the movie work as well as it does , because i absolutely hated the previous ryan/hanks teaming , sleepless in seattle . it couldn't have been the directing , because both films were helmed by the same woman . i haven't quite yet figured out what i liked so much about you've got mail , but then again , is that really important ? if you like something so much , why even question it ? again , the storyline is as cliched as they come . tom hanks plays joe fox , the insanely likeable owner of a discount book chain and meg ryan plays kathleen kelley , the even more insanely likeable proprietor of a family-run children's book shop called , in a nice homage , the shop around the corner . fox and kelley soon become bitter rivals because the new fox books store is opening up right across the block from the small business . little do they know , they are already in love with each other over the internet , only neither party knows the other person's true identity . the rest of the story isn't important because all it does is serve as a mere backdrop for the two stars to share the screen . sure , there are some mildly interesting subplots , but they all fail in comparison to the utter cuteness of the main relationship . all of this , of course , leads up to the predictable climax . but as foreseeable as the ending is , it's so damn cute and well-done that i doubt any movie in the entire year contains a scene the evokes as much pure joy as this part does . when ryan discovers the true identity of her online love , i was filled with such , for lack of a better word , happiness that for the first time all year , i actually left the theater smiling . \",\n",
              " ' \" jaws \" is a rare film that grabs your attention before it shows you a single image on screen . the movie opens with blackness , and only distant , alien-like underwater sounds . then it comes , the first ominous bars of composer john williams\\' now infamous score . dah-dum . from there , director steven spielberg wastes no time , taking us into the water on a midnight swim with a beautiful girl that turns deadly . right away he lets us know how vulnerable we all are floating in the ocean , and once \" jaws \" has attacked , it never relinquishes its grip . perhaps what is most outstanding about \" jaws \" is how spielberg builds the movie . he works it like a theatrical production , with a first act and a second act . unlike so many modern filmmakers , he has a great deal of restraint , and refuses to show us the shark until the middle of the second act . until then , he merely suggests its presence with creepy , subjective underwater shots and williams\\' music . he\\'s building the tension bit by bit , so when it comes time for the climax , the shark\\'s arrival is truly terrifying . he doesn\\'t let us get bored with the imagery . the first act opens with police chief martin brody ( roy scheider ) , a new york cop who has taken an easy , peaceful job running the police station on amity island , a fictitious new england resort town where there hasn\\'t been a murder or a gun fired in 25 years . the island is shaken up by several vicious great white shark attacks right before the fourth of july , and the mayor , larry vaughn ( murray hamilton ) , doesn\\'t want to shut down the beaches because the island is reliant on summer tourist money . brody is joined by matt hooper ( richard dreyfuss ) , a young , ambitious shark expert from the marine institute . hooper is as fascinated by the shark as he is determined to help brody stop it -- his knowledge about the exact workings of the shark ( \" it\\'s a perfect engine , an eating machine \" ) make it that much more terrifying . when vaughn finally relents , hooper and brody join a crusty old shark killer named quint ( robert shaw ) on his decrepit boat , the orca , to search for the shark . the entire second act takes place on the orca as the three men hunt the shark , and inevitably , are hunted by it .  \" jaws \" is a thriller with a keen sense of humor and an incredible sense of pacing , tension , and horror . it is like ten movies all rolled into one , and it\\'s no wonder it took america by storm in the summer of 1975 , taking in enough money to crown it the box office champ of all time ( until it was unceremoniously dethroned in 1977 by \" star wars \" ) . even today , fascination with this film is on par with hitchcock\\'s \" psycho , \" and it never seems to age . although grand new technology exists that makes the technical sequences , including several mechanical sharks , obsolete , none of it could improve the film because it only would lead to overkill . the technical limitations faced by spielberg in 1975 may have actually produced a better film because it forced him to rely on traditional cinematic elements like pacing , characterization , sharp editing , and creative photography , instead of simply dousing the audience with digital shark effects . scheider , dreyfuss , and shaw were known actors at the time \" jaws \" was made , but none of them had the draw of a robert redford or paul newman . nevertheless , this film guaranteed them all successful careers because each gave an outstanding performance and refused to be overshadowed by the shark . scheider hits just the right notes as a sympathetic husband and father caught in the political quagmire of doing what\\'s right and going against the entire town .  \" it\\'s your first summer here , you know , \" mayor vaughn warns him . dreyfuss , who had previously been seen in \" american graffiti \" ( 1973 ) and \" the apprenticeship of duddy kravitz \" ( 1974 ) gives a surprisingly mature , complex performance for someone who had literally only played kids and teenagers . however , most outstanding is the gnarled performance by robert shaw as the movie\\'s captain ahab , a performance sorely overlooked by the academy awards . bordering of parody , shaw plays quint as a grizzled old loner whose machismo borders on masochism . he\\'s slightly deranged , and shaw\\'s performance is almost a caricature . however , there is one scene late in the film , when he and brody and hooper are below deck on the orca comparing scars . quint is drawn into telling the story of his experiences aboard the u . s . s . indianapolis , a navy ship in world war ii that was sunk by the japanese . his tale of floating in the water for more than a week with over 1 , 000 other men while swarms of sharks slowly devoured them them is actually more hair-raising than anything spielberg put on screen . shaw delivers the story in one long take , and it is the best acting in the film . of course , we can\\'t leave out the shark itself ; with its black eyes , endless rows of teeth , and insatiable urge to eat , it is basically the epitome of all mankind\\'s fears about what is unknown and threatening in nature . a shark is such a perfect nemesis it is real -- having survived sinch the dinosaurs , great whites do exist , they can be as large as the shark in \" jaws , \" and they are a threat . every one of spielberg\\'s subjective underwater shots makes us feel queasy because lets us see how we look to the shark : a bunch of writihing , dangling , completely unprotected legs just ready to be chomped into . the shark in \" jaws \" was actually a combination of actual footage and five different mechanical sharks ( all nicknamed \" bruce \" by the crew ) built to be shot from different angles . many have forgotten , but \" jaws \" was a sort of precursor to \" waterworld \" ( 1995 ) , a movie\\'s who soggy production and cost overruns had universal studios worried about a bomb . but , as we can see now , spielberg overcame all the obstacles , and delivered one of the finest primal scare-thrillers ever to come out of hollywood . ']"
            ]
          },
          "metadata": {
            "tags": []
          },
          "execution_count": 60
        }
      ]
    },
    {
      "cell_type": "markdown",
      "metadata": {
        "id": "OYzkg1NYtpIC",
        "colab_type": "text"
      },
      "source": [
        "First,to identify positivity or negativity you will pos-tag the reviews and identify adverbes."
      ]
    },
    {
      "cell_type": "markdown",
      "metadata": {
        "id": "Au4M6OQe9QVq",
        "colab_type": "text"
      },
      "source": [
        "Adverbs are RB in the NLTK pos tagger : Let's identify them"
      ]
    },
    {
      "cell_type": "code",
      "metadata": {
        "id": "t2bHGdDYtVbS",
        "colab_type": "code",
        "colab": {}
      },
      "source": [
        "reviews_postag = []\n",
        "for sentence in reviews_clean:\n",
        "  postag = nltk.pos_tag(nltk.word_tokenize(sentence))\n",
        "  reviews_postag.append(postag)"
      ],
      "execution_count": 63,
      "outputs": []
    },
    {
      "cell_type": "code",
      "metadata": {
        "id": "_ITakAoG7cWi",
        "colab_type": "code",
        "colab": {
          "base_uri": "https://localhost:8080/",
          "height": 35
        },
        "outputId": "b67d80fa-8232-461a-fc3f-2e096734725a"
      },
      "source": [
        "len(reviews_postag)"
      ],
      "execution_count": 65,
      "outputs": [
        {
          "output_type": "execute_result",
          "data": {
            "text/plain": [
              "2000"
            ]
          },
          "metadata": {
            "tags": []
          },
          "execution_count": 65
        }
      ]
    },
    {
      "cell_type": "code",
      "metadata": {
        "id": "UOKMiQFW8rpr",
        "colab_type": "code",
        "colab": {}
      },
      "source": [
        "adverbs_only = [[x for x in sentence if x[1]=='RB'] for sentence in reviews_postag]"
      ],
      "execution_count": 68,
      "outputs": []
    },
    {
      "cell_type": "markdown",
      "metadata": {
        "id": "iL3SxrJHtseT",
        "colab_type": "text"
      },
      "source": [
        "Second you will use a lexical resource to classify the adverbes found.\n",
        "SentiWordNet is a lexical resource for opinion mining. SentiWordNet assigns to each synset of\n",
        "WordNet three sentiment scores: positivity, negativity, objectivity.\n",
        "Each of the three scores ranges in the interval [0.0 ; 1.0], and their sum is 1.0 for each synset."
      ]
    },
    {
      "cell_type": "markdown",
      "metadata": {
        "id": "1tLr9AYCGamf",
        "colab_type": "text"
      },
      "source": [
        "For the strategy that we will use for the scoring : \n",
        "<br>\n",
        "We will try to estimate the polarity score from the posterior polarities of all the senses for a single adverb. \n",
        "<br>\n",
        "Given adverb with $n$ senses, every formula $f$ is idependently applied to all the Pos(s) and Neg(s).\n",
        "<br>\n",
        "This produce two scores, $f(posScore)$ and $f(negScore)$ for each adverb. To obtain unique prior polarity fo adverb we will us this strategy :\n",
        "\n",
        "$$\n",
        "f_m = \\left\\{\n",
        "  \\begin{array}{ll}\n",
        "    f(posScore)\\  if \\ f(posScore) \\ge f(negScore)\\\\\n",
        "    -f(negScore)\\  otherwise\n",
        "  \\end{array}\n",
        "\\right.\n",
        "$$\n",
        "<br>\n",
        "$$ f_d = f(posScore) - f(negScore) $$"
      ]
    },
    {
      "cell_type": "code",
      "metadata": {
        "id": "9BTkV6lqtvNo",
        "colab_type": "code",
        "colab": {}
      },
      "source": [
        "def f_posscore(list_synsets):\n",
        "  sum = 0\n",
        "  for i in range(0,len(list_synsets)):\n",
        "    sum = sum + list_synsets[i].pos_score()\n",
        "  return sum/len(list_synsets)\n",
        "\n",
        "def f_negscore(list_synsets):\n",
        "  sum = 0\n",
        "  for i in range(0,len(list_synsets)):\n",
        "    sum = sum + list_synsets[i].neg_score()\n",
        "  return sum/len(list_synsets)\n",
        "\n",
        "def f_m(word):\n",
        "  synsets_list = list(swn.senti_synsets(word, 'a'))\n",
        "  f_pos_score = f_posscore(synsets_list)\n",
        "  f_neg_score = f_negscore(synsets_list)\n",
        "\n",
        "  if f_pos_score >= f_neg_score:\n",
        "    return f_pos_score\n",
        "  else:\n",
        "    return -f_neg_score\n",
        "\n",
        "def f_d(word):\n",
        "  synsets_list = list(swn.senti_synsets(word, 'a'))\n",
        "  f_pos_score = f_posscore(synsets_list)\n",
        "  f_neg_score = f_negscore(synsets_list)\n",
        "\n",
        "  return f_pos_score - f_neg_score\n"
      ],
      "execution_count": 93,
      "outputs": []
    },
    {
      "cell_type": "markdown",
      "metadata": {
        "id": "cGDPzni8Q08K",
        "colab_type": "text"
      },
      "source": [
        "Let's explain the $f_m$ and $f_d$ values :\n",
        "- $f_m$ is the absolute maximum of the two scores\n",
        "- $f_d$ is the difference between them"
      ]
    },
    {
      "cell_type": "markdown",
      "metadata": {
        "id": "9U8y_U8KTE9p",
        "colab_type": "text"
      },
      "source": [
        "Here is an exemple of the two scores with nice\n"
      ]
    },
    {
      "cell_type": "code",
      "metadata": {
        "id": "Fex7ZyCyDoTm",
        "colab_type": "code",
        "colab": {
          "base_uri": "https://localhost:8080/",
          "height": 35
        },
        "outputId": "9eb812ab-23e0-4f08-babd-83e8a7e4c7c1"
      },
      "source": [
        "f_m('nice')"
      ],
      "execution_count": 94,
      "outputs": [
        {
          "output_type": "execute_result",
          "data": {
            "text/plain": [
              "0.65"
            ]
          },
          "metadata": {
            "tags": []
          },
          "execution_count": 94
        }
      ]
    },
    {
      "cell_type": "code",
      "metadata": {
        "id": "JY9xz5aqQo1Y",
        "colab_type": "code",
        "colab": {
          "base_uri": "https://localhost:8080/",
          "height": 35
        },
        "outputId": "892f4eb1-aa19-4a69-eb45-329e3c78287d"
      },
      "source": [
        "f_d('nice')"
      ],
      "execution_count": 95,
      "outputs": [
        {
          "output_type": "execute_result",
          "data": {
            "text/plain": [
              "0.5750000000000001"
            ]
          },
          "metadata": {
            "tags": []
          },
          "execution_count": 95
        }
      ]
    },
    {
      "cell_type": "markdown",
      "metadata": {
        "id": "E7L-HX9-TfEI",
        "colab_type": "text"
      },
      "source": [
        "Now we will apply these two scores on the adverbs-only list and make the mean for each sentence"
      ]
    },
    {
      "cell_type": "code",
      "metadata": {
        "id": "WsD4eJ0hQx2a",
        "colab_type": "code",
        "colab": {}
      },
      "source": [
        "f"
      ],
      "execution_count": null,
      "outputs": []
    }
  ]
}